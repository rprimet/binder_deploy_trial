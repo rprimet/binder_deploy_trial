{
 "cells": [
  {
   "cell_type": "code",
   "execution_count": 4,
   "metadata": {},
   "outputs": [],
   "source": [
    "import csv\n"
   ]
  },
  {
   "cell_type": "code",
   "execution_count": 6,
   "metadata": {},
   "outputs": [
    {
     "name": "stdout",
     "output_type": "stream",
     "text": [
      "['speaker0_F', '0.00000', '1.09000']\n",
      "['speaker0_F', '1.65000', '2.60000']\n",
      "['speaker1_M', '3.07000', '4.56000']\n",
      "['speaker2_M', '7.35000', '20.74000']\n",
      "['speaker0_F', '20.74000', '23.20000']\n",
      "['speaker3_F', '23.20000', '24.73000']\n",
      "['speaker0_F', '24.73000', '27.33000']\n",
      "['speaker4_F', '29.98000', '41.44000']\n",
      "['speaker3_F', '41.44000', '43.91000']\n",
      "['speaker1_M', '46.53000', '75.32000']\n",
      "['speaker0_F', '76.14000', '78.75000']\n",
      "['speaker0_F', '79.98000', '90.58000']\n",
      "['speaker4_F', '90.58000', '97.64000']\n",
      "['speaker3_F', '97.64000', '129.35001']\n",
      "['speaker4_F', '129.35001', '134.85001']\n",
      "['speaker3_F', '134.85001', '152.25999']\n",
      "['speaker4_F', '152.25999', '156.28000']\n"
     ]
    }
   ],
   "source": [
    "with open('conv1_speads.tsv') as tsvfile:\n",
    "    reader = csv.reader(tsvfile, delimiter='\\t')\n",
    "    for row in reader:\n",
    "        print(row)"
   ]
  },
  {
   "cell_type": "code",
   "execution_count": 9,
   "metadata": {},
   "outputs": [],
   "source": [
    "def preprocess_raw_speads_output():\n",
    "    with open('conv1_processed.tsv', 'w') as dest:\n",
    "        dest.write(\"ID\\tGender\\tStart\\tEnd\\n\")\n",
    "        with open('conv1_speads.tsv', 'r') as source:\n",
    "            reader = csv.reader(source, delimiter='\\t')\n",
    "            for row in reader:\n",
    "                dest.write('{}\\t{}\\t{}\\t{}\\n'.format(row[0][:-2], row[0][-1:], row[1], row[2]))"
   ]
  },
  {
   "cell_type": "code",
   "execution_count": 10,
   "metadata": {},
   "outputs": [],
   "source": [
    "preprocess_raw_speads_output()"
   ]
  },
  {
   "cell_type": "code",
   "execution_count": null,
   "metadata": {},
   "outputs": [],
   "source": []
  }
 ],
 "metadata": {
  "kernelspec": {
   "display_name": "Python [conda root]",
   "language": "python",
   "name": "conda-root-py"
  },
  "language_info": {
   "codemirror_mode": {
    "name": "ipython",
    "version": 3
   },
   "file_extension": ".py",
   "mimetype": "text/x-python",
   "name": "python",
   "nbconvert_exporter": "python",
   "pygments_lexer": "ipython3",
   "version": "3.5.3"
  }
 },
 "nbformat": 4,
 "nbformat_minor": 2
}
