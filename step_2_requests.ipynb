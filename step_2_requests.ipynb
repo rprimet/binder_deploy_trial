{
 "cells": [
  {
   "cell_type": "markdown",
   "metadata": {},
   "source": [
    "# Notebooks pour Allgo\n",
    "[Allgo](https://allgo.inria.fr/) est un service qui offre une interface web pour des outils en ligne de commande. Il dispense ainsi les utilisateurs d'installer les programmes en question et offre la possibilité de cacher leur code source et modèles (pour les outils ayant besoin d'un entraînement). Il permet donc : \n",
    "* D'évaluer des outils de recherche (par des groupes de recherche et des industriels ?)\n",
    "* D'archiver un environnement d'exécution\n",
    "\n",
    "Ce carnet est la suite du [premier](step_1.ipynb); ici, on se propose de partir de zéro et de faire toutes les requêtes à Allgo depuis notre carnet. \n",
    "\n",
    "## Speads\n",
    "\n",
    "[Speads](https://allgo.inria.fr/app/speads) est un exemple d'application disponible sur Allgo. Speads segmente une conversation, identifie les locuteurs et tente de déterminer leur genre.\n",
    "\n",
    "Par exemple, en partant de cette conversation :"
   ]
  },
  {
   "cell_type": "code",
   "execution_count": null,
   "metadata": {},
   "outputs": [],
   "source": [
    "from IPython.display import Audio\n",
    "Audio(\"conv1.mp3\")"
   ]
  },
  {
   "cell_type": "markdown",
   "metadata": {},
   "source": [
    "On obtient en sortie le tableau suivant :"
   ]
  },
  {
   "cell_type": "code",
   "execution_count": null,
   "metadata": {},
   "outputs": [],
   "source": [
    "import csv\n",
    "with open('conv1_speads.tsv') as tsvfile:\n",
    "    reader = csv.reader(tsvfile, delimiter='\\t')\n",
    "    for row in reader:\n",
    "        print(row)"
   ]
  },
  {
   "cell_type": "markdown",
   "metadata": {},
   "source": [
    "Plutôt qu'un simple tableau, on voudrait obtenir un graphique de ce type:\n",
    "![graphique](plot_1.png)\n",
    "\n",
    "Ici par exemple, on voit bien plus facilement qu'on a cinq locuteurs dont deux sont des hommes.\n",
    "\n",
    "Pour obtenir ce graphique, *et pour d'autres tâches d'analyse* -- il ne s'agit pas que de visualisation--, on a besoin d'un environnement plus puissant que l'UI d'Allgo, ce qui justifie le recours à un notebook type Jupyter. Par exemple, dans les données brutes, le genre du locuteur est mélangé avec son identifiant (comme dans `speaker4_F`), ce qui est problématique."
   ]
  },
  {
   "cell_type": "markdown",
   "metadata": {},
   "source": [
    "## Récupérer les données via l'API REST\n",
    "\n",
    "Dans le [notebook précédent](step_1.ipynb), on était parti de données récupérées à la main sur Allgo.\n",
    "\n",
    "Ici, on part simplement du fichier audio de conversation, et on veut interroger allgo directement (pour pouvoir facilement ajuster des paramètres, par exemple).\n",
    "\n",
    "Allgo s'interroge comme suit:\n",
    "* Le client `POST`e une requête (ID_application, paramètres, fichier(s) d'entrée)\n",
    "* Réponse contenant un identifiant\n",
    "* ... le client interroge le serveur pour suivre le job ...\n",
    "* Réponses indiquant que le job est en cours, puis réponse contenant une liste de fichiers téléchargeables\n",
    "* Le client télécharge le ou les fichiers qui l'intéressent\n"
   ]
  },
  {
   "cell_type": "code",
   "execution_count": 45,
   "metadata": {},
   "outputs": [],
   "source": [
    "# La librairie requests est nécessaire (pip install requests)\n",
    "import requests\n",
    "TOKEN = \"***REMOVED***\" # privé, peut être regénéré\n",
    "APP_ID = 99\n",
    "\n",
    "def start_job(token, app_id, files, params=''):\n",
    "    \"\"\"Launches job, returns job ID\"\"\"\n",
    "    headers = {'Authorization': 'Token token={}'.format(token)}\n",
    "    data = {'job[webapp_id]': app_id}\n",
    "    data['job[param]'] = params\n",
    "    r = requests.post('https://allgo.inria.fr/api/v1/jobs', \n",
    "                      headers=headers,\n",
    "                      files=files,\n",
    "                      data=data)\n",
    "    r.raise_for_status() # lever une exception en cas d'erreur \n",
    "    return r\n",
    "\n",
    "def check_job(token, id):\n",
    "    headers = {'Authorization': 'Token token={}'.format(token)}\n",
    "    r = requests.get('https://allgo.inria.fr/api/v1/jobs/{}'.format(id),\n",
    "                    headers=headers)\n",
    "    r.raise_for_status()\n",
    "    return r\n"
   ]
  },
  {
   "cell_type": "markdown",
   "metadata": {},
   "source": [
    "L'API d'Allgo n'est pas super intuitive (?) -> 200 pour une requête qui finit en \"error: no input file\", notation étrange (`job[webapp_id]`, `files[0]`) etc."
   ]
  },
  {
   "cell_type": "code",
   "execution_count": 46,
   "metadata": {},
   "outputs": [
    {
     "name": "stdout",
     "output_type": "stream",
     "text": [
      "{\"avg_time\":30,\"id\":10212,\"url\":\"https://allgo.inria.fr/api/v1/jobs/10212\"}\n"
     ]
    }
   ],
   "source": [
    "files={'files[0]': open('conv1.mp3', 'rb')}\n",
    "resp = start_job(token=TOKEN, app_id=APP_ID, files=files, params='-s 0.12')\n",
    "#print(resp)\n",
    "print(resp.text)"
   ]
  },
  {
   "cell_type": "code",
   "execution_count": 49,
   "metadata": {},
   "outputs": [
    {
     "name": "stdout",
     "output_type": "stream",
     "text": [
      "<Response [200]>\n",
      "{\"10212\":{\"conv1_speads.txt\":\"https://allgo.inria.fr/datastore/248/99/9d51ce334fbf00e38a640b6d61185f429153f213/conv1_speads.txt\",\"conv1.mp3\":\"https://allgo.inria.fr/datastore/248/99/9d51ce334fbf00e38a640b6d61185f429153f213/conv1.mp3\",\"allgo.log\":\"https://allgo.inria.fr/datastore/248/99/9d51ce334fbf00e38a640b6d61185f429153f213/allgo.log\"}}\n"
     ]
    }
   ],
   "source": [
    "# On vérifie la progression de la tâche\n",
    "rcheck = check_job(token=TOKEN,id=resp.json()['id'])\n",
    "print(rcheck)\n",
    "print(rcheck.text)"
   ]
  },
  {
   "cell_type": "code",
   "execution_count": null,
   "metadata": {},
   "outputs": [],
   "source": [
    "# On télécharge le fichier de résultat (et le log?)\n",
    "with open('out/conv1_raw.tsv', 'w') as fb:\n",
    "    pass\n"
   ]
  },
  {
   "cell_type": "markdown",
   "metadata": {},
   "source": [
    "## Préparer les données\n",
    "\n",
    "Ici, on corrige le problème évoqué plus haut (genre et identifiant du locuteur mélangés)"
   ]
  },
  {
   "cell_type": "code",
   "execution_count": 51,
   "metadata": {
    "collapsed": true
   },
   "outputs": [],
   "source": [
    "import csv\n",
    "def preprocess_raw_speads_output(infile, outfile):\n",
    "    with open(outfile, 'w') as dest:\n",
    "        dest.write(\"ID\\tGender\\tStart\\tEnd\\n\")\n",
    "        with open(infile, 'r') as source:\n",
    "            reader = csv.reader(source, delimiter='\\t')\n",
    "            for row in reader:\n",
    "                dest.write('{}\\t{}\\t{}\\t{}\\n'.format(row[0][:-2], row[0][-1:], row[1], row[2]))"
   ]
  },
  {
   "cell_type": "code",
   "execution_count": 52,
   "metadata": {
    "collapsed": true
   },
   "outputs": [],
   "source": [
    "preprocess_raw_speads_output(infile='out/conv1_raw.tsv', outfile='out/conv1_processed.tsv')"
   ]
  },
  {
   "cell_type": "markdown",
   "metadata": {},
   "source": [
    "Jetons un oeil aux données après traitement :"
   ]
  },
  {
   "cell_type": "code",
   "execution_count": 53,
   "metadata": {},
   "outputs": [
    {
     "data": {
      "text/html": [
       "<div>\n",
       "<style>\n",
       "    .dataframe thead tr:only-child th {\n",
       "        text-align: right;\n",
       "    }\n",
       "\n",
       "    .dataframe thead th {\n",
       "        text-align: left;\n",
       "    }\n",
       "\n",
       "    .dataframe tbody tr th {\n",
       "        vertical-align: top;\n",
       "    }\n",
       "</style>\n",
       "<table border=\"1\" class=\"dataframe\">\n",
       "  <thead>\n",
       "    <tr style=\"text-align: right;\">\n",
       "      <th></th>\n",
       "      <th>ID</th>\n",
       "      <th>Gender</th>\n",
       "      <th>Start</th>\n",
       "      <th>End</th>\n",
       "    </tr>\n",
       "  </thead>\n",
       "  <tbody>\n",
       "    <tr>\n",
       "      <th>0</th>\n",
       "      <td>speaker0</td>\n",
       "      <td>F</td>\n",
       "      <td>0.00000</td>\n",
       "      <td>1.09000</td>\n",
       "    </tr>\n",
       "    <tr>\n",
       "      <th>1</th>\n",
       "      <td>speaker0</td>\n",
       "      <td>F</td>\n",
       "      <td>1.65000</td>\n",
       "      <td>2.60000</td>\n",
       "    </tr>\n",
       "    <tr>\n",
       "      <th>2</th>\n",
       "      <td>speaker1</td>\n",
       "      <td>M</td>\n",
       "      <td>3.07000</td>\n",
       "      <td>4.56000</td>\n",
       "    </tr>\n",
       "    <tr>\n",
       "      <th>3</th>\n",
       "      <td>speaker1</td>\n",
       "      <td>M</td>\n",
       "      <td>7.35000</td>\n",
       "      <td>8.93000</td>\n",
       "    </tr>\n",
       "    <tr>\n",
       "      <th>4</th>\n",
       "      <td>speaker2</td>\n",
       "      <td>M</td>\n",
       "      <td>8.93000</td>\n",
       "      <td>9.30000</td>\n",
       "    </tr>\n",
       "    <tr>\n",
       "      <th>5</th>\n",
       "      <td>speaker3</td>\n",
       "      <td>F</td>\n",
       "      <td>9.30000</td>\n",
       "      <td>12.26000</td>\n",
       "    </tr>\n",
       "    <tr>\n",
       "      <th>6</th>\n",
       "      <td>speaker1</td>\n",
       "      <td>M</td>\n",
       "      <td>12.26000</td>\n",
       "      <td>15.21000</td>\n",
       "    </tr>\n",
       "    <tr>\n",
       "      <th>7</th>\n",
       "      <td>speaker4</td>\n",
       "      <td>M</td>\n",
       "      <td>15.21000</td>\n",
       "      <td>16.23000</td>\n",
       "    </tr>\n",
       "    <tr>\n",
       "      <th>8</th>\n",
       "      <td>speaker5</td>\n",
       "      <td>F</td>\n",
       "      <td>16.23000</td>\n",
       "      <td>20.74000</td>\n",
       "    </tr>\n",
       "    <tr>\n",
       "      <th>9</th>\n",
       "      <td>speaker6</td>\n",
       "      <td>F</td>\n",
       "      <td>20.74000</td>\n",
       "      <td>22.16000</td>\n",
       "    </tr>\n",
       "    <tr>\n",
       "      <th>10</th>\n",
       "      <td>speaker3</td>\n",
       "      <td>F</td>\n",
       "      <td>22.16000</td>\n",
       "      <td>23.20000</td>\n",
       "    </tr>\n",
       "    <tr>\n",
       "      <th>11</th>\n",
       "      <td>speaker5</td>\n",
       "      <td>F</td>\n",
       "      <td>23.20000</td>\n",
       "      <td>24.73000</td>\n",
       "    </tr>\n",
       "    <tr>\n",
       "      <th>12</th>\n",
       "      <td>speaker0</td>\n",
       "      <td>F</td>\n",
       "      <td>24.73000</td>\n",
       "      <td>27.33000</td>\n",
       "    </tr>\n",
       "    <tr>\n",
       "      <th>13</th>\n",
       "      <td>speaker0</td>\n",
       "      <td>F</td>\n",
       "      <td>29.98000</td>\n",
       "      <td>32.03000</td>\n",
       "    </tr>\n",
       "    <tr>\n",
       "      <th>14</th>\n",
       "      <td>speaker3</td>\n",
       "      <td>F</td>\n",
       "      <td>32.21000</td>\n",
       "      <td>32.58000</td>\n",
       "    </tr>\n",
       "    <tr>\n",
       "      <th>15</th>\n",
       "      <td>speaker1</td>\n",
       "      <td>M</td>\n",
       "      <td>32.58000</td>\n",
       "      <td>37.27000</td>\n",
       "    </tr>\n",
       "    <tr>\n",
       "      <th>16</th>\n",
       "      <td>speaker5</td>\n",
       "      <td>F</td>\n",
       "      <td>37.27000</td>\n",
       "      <td>43.91000</td>\n",
       "    </tr>\n",
       "    <tr>\n",
       "      <th>17</th>\n",
       "      <td>speaker6</td>\n",
       "      <td>F</td>\n",
       "      <td>46.53000</td>\n",
       "      <td>50.22000</td>\n",
       "    </tr>\n",
       "    <tr>\n",
       "      <th>18</th>\n",
       "      <td>speaker7</td>\n",
       "      <td>M</td>\n",
       "      <td>50.22000</td>\n",
       "      <td>50.77000</td>\n",
       "    </tr>\n",
       "    <tr>\n",
       "      <th>19</th>\n",
       "      <td>speaker8</td>\n",
       "      <td>M</td>\n",
       "      <td>50.77000</td>\n",
       "      <td>51.39000</td>\n",
       "    </tr>\n",
       "    <tr>\n",
       "      <th>20</th>\n",
       "      <td>speaker2</td>\n",
       "      <td>M</td>\n",
       "      <td>51.39000</td>\n",
       "      <td>51.84000</td>\n",
       "    </tr>\n",
       "    <tr>\n",
       "      <th>21</th>\n",
       "      <td>speaker8</td>\n",
       "      <td>M</td>\n",
       "      <td>51.84000</td>\n",
       "      <td>53.90000</td>\n",
       "    </tr>\n",
       "    <tr>\n",
       "      <th>22</th>\n",
       "      <td>speaker2</td>\n",
       "      <td>M</td>\n",
       "      <td>53.90000</td>\n",
       "      <td>54.23000</td>\n",
       "    </tr>\n",
       "    <tr>\n",
       "      <th>23</th>\n",
       "      <td>speaker8</td>\n",
       "      <td>M</td>\n",
       "      <td>54.23000</td>\n",
       "      <td>55.96000</td>\n",
       "    </tr>\n",
       "    <tr>\n",
       "      <th>24</th>\n",
       "      <td>speaker6</td>\n",
       "      <td>F</td>\n",
       "      <td>55.96000</td>\n",
       "      <td>59.91000</td>\n",
       "    </tr>\n",
       "    <tr>\n",
       "      <th>25</th>\n",
       "      <td>speaker7</td>\n",
       "      <td>M</td>\n",
       "      <td>59.91000</td>\n",
       "      <td>60.45000</td>\n",
       "    </tr>\n",
       "    <tr>\n",
       "      <th>26</th>\n",
       "      <td>speaker8</td>\n",
       "      <td>M</td>\n",
       "      <td>60.45000</td>\n",
       "      <td>63.13000</td>\n",
       "    </tr>\n",
       "    <tr>\n",
       "      <th>27</th>\n",
       "      <td>speaker6</td>\n",
       "      <td>F</td>\n",
       "      <td>63.13000</td>\n",
       "      <td>64.96000</td>\n",
       "    </tr>\n",
       "    <tr>\n",
       "      <th>28</th>\n",
       "      <td>speaker8</td>\n",
       "      <td>M</td>\n",
       "      <td>64.96000</td>\n",
       "      <td>71.05000</td>\n",
       "    </tr>\n",
       "    <tr>\n",
       "      <th>29</th>\n",
       "      <td>speaker6</td>\n",
       "      <td>F</td>\n",
       "      <td>71.05000</td>\n",
       "      <td>74.07000</td>\n",
       "    </tr>\n",
       "    <tr>\n",
       "      <th>30</th>\n",
       "      <td>speaker8</td>\n",
       "      <td>M</td>\n",
       "      <td>74.07000</td>\n",
       "      <td>75.32000</td>\n",
       "    </tr>\n",
       "    <tr>\n",
       "      <th>31</th>\n",
       "      <td>speaker6</td>\n",
       "      <td>F</td>\n",
       "      <td>76.14000</td>\n",
       "      <td>78.75000</td>\n",
       "    </tr>\n",
       "    <tr>\n",
       "      <th>32</th>\n",
       "      <td>speaker8</td>\n",
       "      <td>M</td>\n",
       "      <td>79.98000</td>\n",
       "      <td>81.35000</td>\n",
       "    </tr>\n",
       "    <tr>\n",
       "      <th>33</th>\n",
       "      <td>speaker6</td>\n",
       "      <td>F</td>\n",
       "      <td>81.35000</td>\n",
       "      <td>88.31000</td>\n",
       "    </tr>\n",
       "    <tr>\n",
       "      <th>34</th>\n",
       "      <td>speaker9</td>\n",
       "      <td>F</td>\n",
       "      <td>88.31000</td>\n",
       "      <td>88.78000</td>\n",
       "    </tr>\n",
       "    <tr>\n",
       "      <th>35</th>\n",
       "      <td>speaker3</td>\n",
       "      <td>F</td>\n",
       "      <td>88.78000</td>\n",
       "      <td>90.58000</td>\n",
       "    </tr>\n",
       "    <tr>\n",
       "      <th>36</th>\n",
       "      <td>speaker5</td>\n",
       "      <td>F</td>\n",
       "      <td>90.58000</td>\n",
       "      <td>93.02000</td>\n",
       "    </tr>\n",
       "    <tr>\n",
       "      <th>37</th>\n",
       "      <td>speaker3</td>\n",
       "      <td>F</td>\n",
       "      <td>93.21000</td>\n",
       "      <td>97.64000</td>\n",
       "    </tr>\n",
       "    <tr>\n",
       "      <th>38</th>\n",
       "      <td>speaker5</td>\n",
       "      <td>F</td>\n",
       "      <td>97.64000</td>\n",
       "      <td>100.32000</td>\n",
       "    </tr>\n",
       "    <tr>\n",
       "      <th>39</th>\n",
       "      <td>speaker3</td>\n",
       "      <td>F</td>\n",
       "      <td>100.32000</td>\n",
       "      <td>101.16000</td>\n",
       "    </tr>\n",
       "    <tr>\n",
       "      <th>40</th>\n",
       "      <td>speaker5</td>\n",
       "      <td>F</td>\n",
       "      <td>101.16000</td>\n",
       "      <td>103.30000</td>\n",
       "    </tr>\n",
       "    <tr>\n",
       "      <th>41</th>\n",
       "      <td>speaker9</td>\n",
       "      <td>F</td>\n",
       "      <td>103.30000</td>\n",
       "      <td>106.29000</td>\n",
       "    </tr>\n",
       "    <tr>\n",
       "      <th>42</th>\n",
       "      <td>speaker3</td>\n",
       "      <td>F</td>\n",
       "      <td>106.29000</td>\n",
       "      <td>109.45000</td>\n",
       "    </tr>\n",
       "    <tr>\n",
       "      <th>43</th>\n",
       "      <td>speaker5</td>\n",
       "      <td>F</td>\n",
       "      <td>109.45000</td>\n",
       "      <td>112.62000</td>\n",
       "    </tr>\n",
       "    <tr>\n",
       "      <th>44</th>\n",
       "      <td>speaker3</td>\n",
       "      <td>F</td>\n",
       "      <td>112.62000</td>\n",
       "      <td>113.09000</td>\n",
       "    </tr>\n",
       "    <tr>\n",
       "      <th>45</th>\n",
       "      <td>speaker9</td>\n",
       "      <td>F</td>\n",
       "      <td>113.09000</td>\n",
       "      <td>121.61000</td>\n",
       "    </tr>\n",
       "    <tr>\n",
       "      <th>46</th>\n",
       "      <td>speaker5</td>\n",
       "      <td>F</td>\n",
       "      <td>121.89000</td>\n",
       "      <td>124.40000</td>\n",
       "    </tr>\n",
       "    <tr>\n",
       "      <th>47</th>\n",
       "      <td>speaker3</td>\n",
       "      <td>F</td>\n",
       "      <td>124.40000</td>\n",
       "      <td>126.46000</td>\n",
       "    </tr>\n",
       "    <tr>\n",
       "      <th>48</th>\n",
       "      <td>speaker9</td>\n",
       "      <td>F</td>\n",
       "      <td>126.46000</td>\n",
       "      <td>127.47000</td>\n",
       "    </tr>\n",
       "    <tr>\n",
       "      <th>49</th>\n",
       "      <td>speaker3</td>\n",
       "      <td>F</td>\n",
       "      <td>127.71000</td>\n",
       "      <td>129.35001</td>\n",
       "    </tr>\n",
       "    <tr>\n",
       "      <th>50</th>\n",
       "      <td>speaker9</td>\n",
       "      <td>F</td>\n",
       "      <td>129.35001</td>\n",
       "      <td>131.00000</td>\n",
       "    </tr>\n",
       "    <tr>\n",
       "      <th>51</th>\n",
       "      <td>speaker3</td>\n",
       "      <td>F</td>\n",
       "      <td>131.00000</td>\n",
       "      <td>134.85001</td>\n",
       "    </tr>\n",
       "    <tr>\n",
       "      <th>52</th>\n",
       "      <td>speaker9</td>\n",
       "      <td>F</td>\n",
       "      <td>134.85001</td>\n",
       "      <td>135.72000</td>\n",
       "    </tr>\n",
       "    <tr>\n",
       "      <th>53</th>\n",
       "      <td>speaker5</td>\n",
       "      <td>F</td>\n",
       "      <td>135.95000</td>\n",
       "      <td>137.94000</td>\n",
       "    </tr>\n",
       "    <tr>\n",
       "      <th>54</th>\n",
       "      <td>speaker6</td>\n",
       "      <td>F</td>\n",
       "      <td>137.94000</td>\n",
       "      <td>140.78000</td>\n",
       "    </tr>\n",
       "    <tr>\n",
       "      <th>55</th>\n",
       "      <td>speaker9</td>\n",
       "      <td>F</td>\n",
       "      <td>140.78000</td>\n",
       "      <td>152.25999</td>\n",
       "    </tr>\n",
       "    <tr>\n",
       "      <th>56</th>\n",
       "      <td>speaker3</td>\n",
       "      <td>F</td>\n",
       "      <td>152.25999</td>\n",
       "      <td>156.16000</td>\n",
       "    </tr>\n",
       "  </tbody>\n",
       "</table>\n",
       "</div>"
      ],
      "text/plain": [
       "          ID Gender      Start        End\n",
       "0   speaker0      F    0.00000    1.09000\n",
       "1   speaker0      F    1.65000    2.60000\n",
       "2   speaker1      M    3.07000    4.56000\n",
       "3   speaker1      M    7.35000    8.93000\n",
       "4   speaker2      M    8.93000    9.30000\n",
       "5   speaker3      F    9.30000   12.26000\n",
       "6   speaker1      M   12.26000   15.21000\n",
       "7   speaker4      M   15.21000   16.23000\n",
       "8   speaker5      F   16.23000   20.74000\n",
       "9   speaker6      F   20.74000   22.16000\n",
       "10  speaker3      F   22.16000   23.20000\n",
       "11  speaker5      F   23.20000   24.73000\n",
       "12  speaker0      F   24.73000   27.33000\n",
       "13  speaker0      F   29.98000   32.03000\n",
       "14  speaker3      F   32.21000   32.58000\n",
       "15  speaker1      M   32.58000   37.27000\n",
       "16  speaker5      F   37.27000   43.91000\n",
       "17  speaker6      F   46.53000   50.22000\n",
       "18  speaker7      M   50.22000   50.77000\n",
       "19  speaker8      M   50.77000   51.39000\n",
       "20  speaker2      M   51.39000   51.84000\n",
       "21  speaker8      M   51.84000   53.90000\n",
       "22  speaker2      M   53.90000   54.23000\n",
       "23  speaker8      M   54.23000   55.96000\n",
       "24  speaker6      F   55.96000   59.91000\n",
       "25  speaker7      M   59.91000   60.45000\n",
       "26  speaker8      M   60.45000   63.13000\n",
       "27  speaker6      F   63.13000   64.96000\n",
       "28  speaker8      M   64.96000   71.05000\n",
       "29  speaker6      F   71.05000   74.07000\n",
       "30  speaker8      M   74.07000   75.32000\n",
       "31  speaker6      F   76.14000   78.75000\n",
       "32  speaker8      M   79.98000   81.35000\n",
       "33  speaker6      F   81.35000   88.31000\n",
       "34  speaker9      F   88.31000   88.78000\n",
       "35  speaker3      F   88.78000   90.58000\n",
       "36  speaker5      F   90.58000   93.02000\n",
       "37  speaker3      F   93.21000   97.64000\n",
       "38  speaker5      F   97.64000  100.32000\n",
       "39  speaker3      F  100.32000  101.16000\n",
       "40  speaker5      F  101.16000  103.30000\n",
       "41  speaker9      F  103.30000  106.29000\n",
       "42  speaker3      F  106.29000  109.45000\n",
       "43  speaker5      F  109.45000  112.62000\n",
       "44  speaker3      F  112.62000  113.09000\n",
       "45  speaker9      F  113.09000  121.61000\n",
       "46  speaker5      F  121.89000  124.40000\n",
       "47  speaker3      F  124.40000  126.46000\n",
       "48  speaker9      F  126.46000  127.47000\n",
       "49  speaker3      F  127.71000  129.35001\n",
       "50  speaker9      F  129.35001  131.00000\n",
       "51  speaker3      F  131.00000  134.85001\n",
       "52  speaker9      F  134.85001  135.72000\n",
       "53  speaker5      F  135.95000  137.94000\n",
       "54  speaker6      F  137.94000  140.78000\n",
       "55  speaker9      F  140.78000  152.25999\n",
       "56  speaker3      F  152.25999  156.16000"
      ]
     },
     "execution_count": 53,
     "metadata": {},
     "output_type": "execute_result"
    }
   ],
   "source": [
    "import pandas as pd\n",
    "data = pd.read_csv('out/conv1_processed.tsv', sep='\\t')\n",
    "data\n"
   ]
  },
  {
   "cell_type": "markdown",
   "metadata": {},
   "source": [
    "## Visualiser la conversation avec Vega-Lite"
   ]
  },
  {
   "cell_type": "code",
   "execution_count": 54,
   "metadata": {},
   "outputs": [
    {
     "data": {
      "text/html": [
       "<div class=\"vega-embed\" id=\"abe497d5-763b-42f4-99f2-7bb880aec7c1\"></div>\n",
       "\n",
       "<style>\n",
       ".vega-embed svg, .vega-embed canvas {\n",
       "  border: 1px dotted gray;\n",
       "}\n",
       "\n",
       ".vega-embed .vega-actions a {\n",
       "  margin-right: 6px;\n",
       "}\n",
       "</style>\n"
      ]
     },
     "metadata": {
      "jupyter-vega": "#abe497d5-763b-42f4-99f2-7bb880aec7c1"
     },
     "output_type": "display_data"
    },
    {
     "data": {
      "application/javascript": [
       "var spec = {\"config\": {\"cell\": {\"width\": 500, \"height\": 350}}, \"description\": \"Conversation timeline\", \"$schema\": \"https://vega.github.io/schema/vega-lite/v2.json\", \"mark\": \"bar\", \"data\": {\"values\": [{\"End\": 1.09, \"Gender\": \"F\", \"ID\": \"speaker0\", \"Start\": 0.0}, {\"End\": 2.6, \"Gender\": \"F\", \"ID\": \"speaker0\", \"Start\": 1.65}, {\"End\": 4.56, \"Gender\": \"M\", \"ID\": \"speaker1\", \"Start\": 3.07}, {\"End\": 8.93, \"Gender\": \"M\", \"ID\": \"speaker1\", \"Start\": 7.35}, {\"End\": 9.3, \"Gender\": \"M\", \"ID\": \"speaker2\", \"Start\": 8.93}, {\"End\": 12.26, \"Gender\": \"F\", \"ID\": \"speaker3\", \"Start\": 9.3}, {\"End\": 15.21, \"Gender\": \"M\", \"ID\": \"speaker1\", \"Start\": 12.26}, {\"End\": 16.23, \"Gender\": \"M\", \"ID\": \"speaker4\", \"Start\": 15.21}, {\"End\": 20.74, \"Gender\": \"F\", \"ID\": \"speaker5\", \"Start\": 16.23}, {\"End\": 22.16, \"Gender\": \"F\", \"ID\": \"speaker6\", \"Start\": 20.74}, {\"End\": 23.2, \"Gender\": \"F\", \"ID\": \"speaker3\", \"Start\": 22.16}, {\"End\": 24.73, \"Gender\": \"F\", \"ID\": \"speaker5\", \"Start\": 23.2}, {\"End\": 27.33, \"Gender\": \"F\", \"ID\": \"speaker0\", \"Start\": 24.73}, {\"End\": 32.03, \"Gender\": \"F\", \"ID\": \"speaker0\", \"Start\": 29.98}, {\"End\": 32.58, \"Gender\": \"F\", \"ID\": \"speaker3\", \"Start\": 32.21}, {\"End\": 37.27, \"Gender\": \"M\", \"ID\": \"speaker1\", \"Start\": 32.58}, {\"End\": 43.91, \"Gender\": \"F\", \"ID\": \"speaker5\", \"Start\": 37.27}, {\"End\": 50.22, \"Gender\": \"F\", \"ID\": \"speaker6\", \"Start\": 46.53}, {\"End\": 50.77, \"Gender\": \"M\", \"ID\": \"speaker7\", \"Start\": 50.22}, {\"End\": 51.39, \"Gender\": \"M\", \"ID\": \"speaker8\", \"Start\": 50.77}, {\"End\": 51.84, \"Gender\": \"M\", \"ID\": \"speaker2\", \"Start\": 51.39}, {\"End\": 53.9, \"Gender\": \"M\", \"ID\": \"speaker8\", \"Start\": 51.84}, {\"End\": 54.23, \"Gender\": \"M\", \"ID\": \"speaker2\", \"Start\": 53.9}, {\"End\": 55.96, \"Gender\": \"M\", \"ID\": \"speaker8\", \"Start\": 54.23}, {\"End\": 59.91, \"Gender\": \"F\", \"ID\": \"speaker6\", \"Start\": 55.96}, {\"End\": 60.45, \"Gender\": \"M\", \"ID\": \"speaker7\", \"Start\": 59.91}, {\"End\": 63.13, \"Gender\": \"M\", \"ID\": \"speaker8\", \"Start\": 60.45}, {\"End\": 64.96, \"Gender\": \"F\", \"ID\": \"speaker6\", \"Start\": 63.13}, {\"End\": 71.05, \"Gender\": \"M\", \"ID\": \"speaker8\", \"Start\": 64.96}, {\"End\": 74.07, \"Gender\": \"F\", \"ID\": \"speaker6\", \"Start\": 71.05}, {\"End\": 75.32, \"Gender\": \"M\", \"ID\": \"speaker8\", \"Start\": 74.07}, {\"End\": 78.75, \"Gender\": \"F\", \"ID\": \"speaker6\", \"Start\": 76.14}, {\"End\": 81.35, \"Gender\": \"M\", \"ID\": \"speaker8\", \"Start\": 79.98}, {\"End\": 88.31, \"Gender\": \"F\", \"ID\": \"speaker6\", \"Start\": 81.35}, {\"End\": 88.78, \"Gender\": \"F\", \"ID\": \"speaker9\", \"Start\": 88.31}, {\"End\": 90.58, \"Gender\": \"F\", \"ID\": \"speaker3\", \"Start\": 88.78}, {\"End\": 93.02, \"Gender\": \"F\", \"ID\": \"speaker5\", \"Start\": 90.58}, {\"End\": 97.64, \"Gender\": \"F\", \"ID\": \"speaker3\", \"Start\": 93.21}, {\"End\": 100.32, \"Gender\": \"F\", \"ID\": \"speaker5\", \"Start\": 97.64}, {\"End\": 101.16, \"Gender\": \"F\", \"ID\": \"speaker3\", \"Start\": 100.32}, {\"End\": 103.3, \"Gender\": \"F\", \"ID\": \"speaker5\", \"Start\": 101.16}, {\"End\": 106.29, \"Gender\": \"F\", \"ID\": \"speaker9\", \"Start\": 103.3}, {\"End\": 109.45, \"Gender\": \"F\", \"ID\": \"speaker3\", \"Start\": 106.29}, {\"End\": 112.62, \"Gender\": \"F\", \"ID\": \"speaker5\", \"Start\": 109.45}, {\"End\": 113.09, \"Gender\": \"F\", \"ID\": \"speaker3\", \"Start\": 112.62}, {\"End\": 121.61, \"Gender\": \"F\", \"ID\": \"speaker9\", \"Start\": 113.09}, {\"End\": 124.4, \"Gender\": \"F\", \"ID\": \"speaker5\", \"Start\": 121.89}, {\"End\": 126.46, \"Gender\": \"F\", \"ID\": \"speaker3\", \"Start\": 124.4}, {\"End\": 127.47, \"Gender\": \"F\", \"ID\": \"speaker9\", \"Start\": 126.46}, {\"End\": 129.35001, \"Gender\": \"F\", \"ID\": \"speaker3\", \"Start\": 127.71}, {\"End\": 131.0, \"Gender\": \"F\", \"ID\": \"speaker9\", \"Start\": 129.35001}, {\"End\": 134.85001, \"Gender\": \"F\", \"ID\": \"speaker3\", \"Start\": 131.0}, {\"End\": 135.72, \"Gender\": \"F\", \"ID\": \"speaker9\", \"Start\": 134.85001}, {\"End\": 137.94, \"Gender\": \"F\", \"ID\": \"speaker5\", \"Start\": 135.95}, {\"End\": 140.78, \"Gender\": \"F\", \"ID\": \"speaker6\", \"Start\": 137.94}, {\"End\": 152.25999, \"Gender\": \"F\", \"ID\": \"speaker9\", \"Start\": 140.78}, {\"End\": 156.16, \"Gender\": \"F\", \"ID\": \"speaker3\", \"Start\": 152.25999}]}, \"encoding\": {\"x2\": {\"type\": \"quantitative\", \"field\": \"End\"}, \"x\": {\"type\": \"quantitative\", \"field\": \"Start\"}, \"y\": {\"type\": \"nominal\", \"field\": \"ID\"}, \"color\": {\"field\": \"Gender\", \"type\": \"nominal\", \"scale\": {\"domain\": [\"F\", \"M\"], \"range\": [\"#ff99ff\", \"#4169e1\"]}}}};\n",
       "var selector = \"#abe497d5-763b-42f4-99f2-7bb880aec7c1\";\n",
       "var type = \"vega-lite\";\n",
       "\n",
       "var output_area = this;\n",
       "require(['nbextensions/jupyter-vega/index'], function(vega) {\n",
       "  vega.render(selector, spec, type, output_area);\n",
       "}, function (err) {\n",
       "  if (err.requireType !== 'scripterror') {\n",
       "    throw(err);\n",
       "  }\n",
       "});\n"
      ]
     },
     "metadata": {
      "jupyter-vega": "#abe497d5-763b-42f4-99f2-7bb880aec7c1"
     },
     "output_type": "display_data"
    }
   ],
   "source": [
    "import vega\n",
    "vega.VegaLite({\n",
    "  \"$schema\": \"https://vega.github.io/schema/vega-lite/v2.json\",\n",
    "  \"description\": \"Conversation timeline\",\n",
    "  \"mark\": \"bar\",\n",
    "  \"encoding\": {\n",
    "    \"y\": {\"field\": \"ID\", \"type\": \"nominal\"},\n",
    "    \"x\": {\"field\": \"Start\", \"type\": \"quantitative\"},\n",
    "    \"x2\": {\"field\": \"End\", \"type\": \"quantitative\"},\n",
    "    \"color\": {\"field\": \"Gender\", \n",
    "              \"type\": \"nominal\",\n",
    "              \"scale\": {\n",
    "                \"domain\": [\"F\",\"M\"],\n",
    "                 \"range\": [\"#ff99ff\",\"#4169e1\"]\n",
    "      }\n",
    "    }\n",
    "  }\n",
    "},\n",
    "data)"
   ]
  },
  {
   "cell_type": "markdown",
   "metadata": {},
   "source": [
    "... ce qui n'est pas le résultat attendu.\n",
    "\n",
    "* Première surprise : pas de support stable de Vega-Lite dans JupyterLab (alors qu'il s'agit d'un plugin *core*). Au 3 octobre 2017, la bibliothèque python nécessaire n'est pas disponible par `pip` (et un build manuel échoue).\n",
    "  - Donc, on ne peut embarquer la visualisation précédente que dans Jupyter Classic, à moins d'utiliser des appels bas niveau ? \n",
    "* Deuxième surprise : dans Jupyter Classic, le plugin Vega-Lite ne permet pas les visualisations superposées (*layered*). J'ai ouvert [un ticket](https://github.com/altair-viz/jupyter_vega/issues/38) à ce sujet.\n",
    "* Apparemment, la version de vega-lite utilisée dans le plugin *core* est la v1 (la version actuelle est la v2).\n",
    "\n",
    "On peut contourner ce problème avec une approche bas niveau (qu'on aimerait quand même éviter...)"
   ]
  },
  {
   "cell_type": "code",
   "execution_count": 55,
   "metadata": {},
   "outputs": [
    {
     "data": {
      "application/vnd.vegalite.v1+json": {
       "$schema": "https://vega.github.io/schema/vega-lite/v2.json",
       "data": {
        "values": [
         {
          "End": 1.09,
          "Gender": "F",
          "ID": "speaker0",
          "Start": 0
         },
         {
          "End": 2.6,
          "Gender": "F",
          "ID": "speaker0",
          "Start": 1.65
         },
         {
          "End": 4.56,
          "Gender": "M",
          "ID": "speaker1",
          "Start": 3.07
         },
         {
          "End": 8.93,
          "Gender": "M",
          "ID": "speaker1",
          "Start": 7.35
         },
         {
          "End": 9.3,
          "Gender": "M",
          "ID": "speaker2",
          "Start": 8.93
         },
         {
          "End": 12.26,
          "Gender": "F",
          "ID": "speaker3",
          "Start": 9.3
         },
         {
          "End": 15.21,
          "Gender": "M",
          "ID": "speaker1",
          "Start": 12.26
         },
         {
          "End": 16.23,
          "Gender": "M",
          "ID": "speaker4",
          "Start": 15.21
         },
         {
          "End": 20.74,
          "Gender": "F",
          "ID": "speaker5",
          "Start": 16.23
         },
         {
          "End": 22.16,
          "Gender": "F",
          "ID": "speaker6",
          "Start": 20.74
         },
         {
          "End": 23.2,
          "Gender": "F",
          "ID": "speaker3",
          "Start": 22.16
         },
         {
          "End": 24.73,
          "Gender": "F",
          "ID": "speaker5",
          "Start": 23.2
         },
         {
          "End": 27.33,
          "Gender": "F",
          "ID": "speaker0",
          "Start": 24.73
         },
         {
          "End": 32.03,
          "Gender": "F",
          "ID": "speaker0",
          "Start": 29.98
         },
         {
          "End": 32.58,
          "Gender": "F",
          "ID": "speaker3",
          "Start": 32.21
         },
         {
          "End": 37.27,
          "Gender": "M",
          "ID": "speaker1",
          "Start": 32.58
         },
         {
          "End": 43.91,
          "Gender": "F",
          "ID": "speaker5",
          "Start": 37.27
         },
         {
          "End": 50.22,
          "Gender": "F",
          "ID": "speaker6",
          "Start": 46.53
         },
         {
          "End": 50.77,
          "Gender": "M",
          "ID": "speaker7",
          "Start": 50.22
         },
         {
          "End": 51.39,
          "Gender": "M",
          "ID": "speaker8",
          "Start": 50.77
         },
         {
          "End": 51.84,
          "Gender": "M",
          "ID": "speaker2",
          "Start": 51.39
         },
         {
          "End": 53.9,
          "Gender": "M",
          "ID": "speaker8",
          "Start": 51.84
         },
         {
          "End": 54.23,
          "Gender": "M",
          "ID": "speaker2",
          "Start": 53.9
         },
         {
          "End": 55.96,
          "Gender": "M",
          "ID": "speaker8",
          "Start": 54.23
         },
         {
          "End": 59.91,
          "Gender": "F",
          "ID": "speaker6",
          "Start": 55.96
         },
         {
          "End": 60.45,
          "Gender": "M",
          "ID": "speaker7",
          "Start": 59.91
         },
         {
          "End": 63.13,
          "Gender": "M",
          "ID": "speaker8",
          "Start": 60.45
         },
         {
          "End": 64.96,
          "Gender": "F",
          "ID": "speaker6",
          "Start": 63.13
         },
         {
          "End": 71.05,
          "Gender": "M",
          "ID": "speaker8",
          "Start": 64.96
         },
         {
          "End": 74.07,
          "Gender": "F",
          "ID": "speaker6",
          "Start": 71.05
         },
         {
          "End": 75.32,
          "Gender": "M",
          "ID": "speaker8",
          "Start": 74.07
         },
         {
          "End": 78.75,
          "Gender": "F",
          "ID": "speaker6",
          "Start": 76.14
         },
         {
          "End": 81.35,
          "Gender": "M",
          "ID": "speaker8",
          "Start": 79.98
         },
         {
          "End": 88.31,
          "Gender": "F",
          "ID": "speaker6",
          "Start": 81.35
         },
         {
          "End": 88.78,
          "Gender": "F",
          "ID": "speaker9",
          "Start": 88.31
         },
         {
          "End": 90.58,
          "Gender": "F",
          "ID": "speaker3",
          "Start": 88.78
         },
         {
          "End": 93.02,
          "Gender": "F",
          "ID": "speaker5",
          "Start": 90.58
         },
         {
          "End": 97.64,
          "Gender": "F",
          "ID": "speaker3",
          "Start": 93.21
         },
         {
          "End": 100.32,
          "Gender": "F",
          "ID": "speaker5",
          "Start": 97.64
         },
         {
          "End": 101.16,
          "Gender": "F",
          "ID": "speaker3",
          "Start": 100.32
         },
         {
          "End": 103.3,
          "Gender": "F",
          "ID": "speaker5",
          "Start": 101.16
         },
         {
          "End": 106.29,
          "Gender": "F",
          "ID": "speaker9",
          "Start": 103.3
         },
         {
          "End": 109.45,
          "Gender": "F",
          "ID": "speaker3",
          "Start": 106.29
         },
         {
          "End": 112.62,
          "Gender": "F",
          "ID": "speaker5",
          "Start": 109.45
         },
         {
          "End": 113.09,
          "Gender": "F",
          "ID": "speaker3",
          "Start": 112.62
         },
         {
          "End": 121.61,
          "Gender": "F",
          "ID": "speaker9",
          "Start": 113.09
         },
         {
          "End": 124.4,
          "Gender": "F",
          "ID": "speaker5",
          "Start": 121.89
         },
         {
          "End": 126.46,
          "Gender": "F",
          "ID": "speaker3",
          "Start": 124.4
         },
         {
          "End": 127.47,
          "Gender": "F",
          "ID": "speaker9",
          "Start": 126.46
         },
         {
          "End": 129.35001,
          "Gender": "F",
          "ID": "speaker3",
          "Start": 127.71
         },
         {
          "End": 131,
          "Gender": "F",
          "ID": "speaker9",
          "Start": 129.35001
         },
         {
          "End": 134.85001,
          "Gender": "F",
          "ID": "speaker3",
          "Start": 131
         },
         {
          "End": 135.72,
          "Gender": "F",
          "ID": "speaker9",
          "Start": 134.85001
         },
         {
          "End": 137.94,
          "Gender": "F",
          "ID": "speaker5",
          "Start": 135.95
         },
         {
          "End": 140.78,
          "Gender": "F",
          "ID": "speaker6",
          "Start": 137.94
         },
         {
          "End": 152.25999,
          "Gender": "F",
          "ID": "speaker9",
          "Start": 140.78
         },
         {
          "End": 156.16,
          "Gender": "F",
          "ID": "speaker3",
          "Start": 152.25999
         }
        ]
       },
       "description": "Conversation timeline",
       "encoding": {
        "color": {
         "field": "Gender",
         "scale": {
          "domain": [
           "F",
           "M"
          ],
          "range": [
           "#ff99ff",
           "#4169e1"
          ]
         },
         "type": "nominal"
        },
        "x": {
         "field": "Start",
         "type": "quantitative"
        },
        "x2": {
         "field": "End",
         "type": "quantitative"
        },
        "y": {
         "field": "ID",
         "type": "nominal"
        }
       },
       "mark": "bar"
      }
     },
     "metadata": {},
     "output_type": "display_data"
    }
   ],
   "source": [
    "def display_static_conversation(dataframe):\n",
    "  from IPython.display import display\n",
    "  import json\n",
    "  bundle_contents = {\n",
    "  \"$schema\": \"https://vega.github.io/schema/vega-lite/v2.json\",\n",
    "  \"description\": \"Conversation timeline\",\n",
    "  \"data\": {\n",
    "    \"values\": json.loads(dataframe.to_json(orient='records'))\n",
    "  },\n",
    "  \"mark\": \"bar\",\n",
    "  \"encoding\": {\n",
    "    \"y\": {\"field\": \"ID\", \"type\": \"nominal\"},\n",
    "    \"x\": {\"field\": \"Start\", \"type\": \"quantitative\"},\n",
    "    \"x2\": {\"field\": \"End\", \"type\": \"quantitative\"},\n",
    "    \"color\": {\"field\": \"Gender\", \n",
    "              \"type\": \"nominal\",\n",
    "              \"scale\": {\n",
    "                \"domain\": [\"F\",\"M\"],\n",
    "                 \"range\": [\"#ff99ff\",\"#4169e1\"]\n",
    "              }\n",
    "          }\n",
    "      }\n",
    "  }\n",
    "  mime_bundle = {'application/vnd.vegalite.v1+json': bundle_contents}\n",
    "  display(mime_bundle, raw=True)\n",
    "\n",
    "display_static_conversation(data)"
   ]
  },
  {
   "cell_type": "markdown",
   "metadata": {},
   "source": [
    "(on note dans le type MIME que vegalite a une version de retard...)\n",
    "\n"
   ]
  },
  {
   "cell_type": "markdown",
   "metadata": {},
   "source": [
    "## Discussion\n",
    "\n",
    "\n",
    "\n",
    "## Annexe: nettoyage"
   ]
  },
  {
   "cell_type": "code",
   "execution_count": null,
   "metadata": {
    "collapsed": true
   },
   "outputs": [],
   "source": [
    "def clean():\n",
    "    import os\n",
    "    os.system('rm out/*')\n",
    "\n"
   ]
  },
  {
   "cell_type": "code",
   "execution_count": null,
   "metadata": {},
   "outputs": [],
   "source": [
    "clean()"
   ]
  }
 ],
 "metadata": {
  "kernelspec": {
   "display_name": "Python [default]",
   "language": "python",
   "name": "python3"
  },
  "language_info": {
   "codemirror_mode": {
    "name": "ipython",
    "version": 3
   },
   "file_extension": ".py",
   "mimetype": "text/x-python",
   "name": "python",
   "nbconvert_exporter": "python",
   "pygments_lexer": "ipython3",
   "version": "3.5.3"
  }
 },
 "nbformat": 4,
 "nbformat_minor": 2
}
